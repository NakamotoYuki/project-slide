{
 "cells": [
  {
   "cell_type": "code",
   "execution_count": 1,
   "metadata": {},
   "outputs": [],
   "source": [
    "import pandas as pd\n",
    "import plotly.graph_objs as go\n",
    "import plotly.offline\n",
    "from plotly import offline\n",
    "import ta"
   ]
  },
  {
   "cell_type": "code",
   "execution_count": 2,
   "metadata": {},
   "outputs": [],
   "source": [
    "from backtest_mm import make_mm_pl, Backtest, AirExchange"
   ]
  },
  {
   "cell_type": "code",
   "execution_count": 3,
   "metadata": {},
   "outputs": [],
   "source": [
    "colnames = ['timestamp', 'open', 'high', 'low', 'close', 'volume']"
   ]
  },
  {
   "cell_type": "code",
   "execution_count": 4,
   "metadata": {},
   "outputs": [
    {
     "data": {
      "text/html": [
       "<div>\n",
       "<style scoped>\n",
       "    .dataframe tbody tr th:only-of-type {\n",
       "        vertical-align: middle;\n",
       "    }\n",
       "\n",
       "    .dataframe tbody tr th {\n",
       "        vertical-align: top;\n",
       "    }\n",
       "\n",
       "    .dataframe thead th {\n",
       "        text-align: right;\n",
       "    }\n",
       "</style>\n",
       "<table border=\"1\" class=\"dataframe\">\n",
       "  <thead>\n",
       "    <tr style=\"text-align: right;\">\n",
       "      <th></th>\n",
       "      <th>timestamp</th>\n",
       "      <th>open</th>\n",
       "      <th>high</th>\n",
       "      <th>low</th>\n",
       "      <th>close</th>\n",
       "      <th>volume</th>\n",
       "    </tr>\n",
       "  </thead>\n",
       "  <tbody>\n",
       "    <tr>\n",
       "      <th>1000</th>\n",
       "      <td>2022.09.01 17:40</td>\n",
       "      <td>1691.16</td>\n",
       "      <td>1691.87</td>\n",
       "      <td>1690.96</td>\n",
       "      <td>1691.47</td>\n",
       "      <td>345</td>\n",
       "    </tr>\n",
       "    <tr>\n",
       "      <th>1001</th>\n",
       "      <td>2022.09.01 17:41</td>\n",
       "      <td>1691.47</td>\n",
       "      <td>1692.08</td>\n",
       "      <td>1691.31</td>\n",
       "      <td>1691.63</td>\n",
       "      <td>340</td>\n",
       "    </tr>\n",
       "    <tr>\n",
       "      <th>1002</th>\n",
       "      <td>2022.09.01 17:42</td>\n",
       "      <td>1691.60</td>\n",
       "      <td>1692.24</td>\n",
       "      <td>1691.52</td>\n",
       "      <td>1692.02</td>\n",
       "      <td>296</td>\n",
       "    </tr>\n",
       "    <tr>\n",
       "      <th>1003</th>\n",
       "      <td>2022.09.01 17:43</td>\n",
       "      <td>1692.04</td>\n",
       "      <td>1692.28</td>\n",
       "      <td>1690.96</td>\n",
       "      <td>1691.34</td>\n",
       "      <td>349</td>\n",
       "    </tr>\n",
       "    <tr>\n",
       "      <th>1004</th>\n",
       "      <td>2022.09.01 17:44</td>\n",
       "      <td>1691.35</td>\n",
       "      <td>1691.41</td>\n",
       "      <td>1689.96</td>\n",
       "      <td>1690.12</td>\n",
       "      <td>354</td>\n",
       "    </tr>\n",
       "    <tr>\n",
       "      <th>...</th>\n",
       "      <td>...</td>\n",
       "      <td>...</td>\n",
       "      <td>...</td>\n",
       "      <td>...</td>\n",
       "      <td>...</td>\n",
       "      <td>...</td>\n",
       "    </tr>\n",
       "    <tr>\n",
       "      <th>2995</th>\n",
       "      <td>2022.09.05 04:58</td>\n",
       "      <td>1711.75</td>\n",
       "      <td>1711.76</td>\n",
       "      <td>1711.26</td>\n",
       "      <td>1711.44</td>\n",
       "      <td>86</td>\n",
       "    </tr>\n",
       "    <tr>\n",
       "      <th>2996</th>\n",
       "      <td>2022.09.05 04:59</td>\n",
       "      <td>1711.48</td>\n",
       "      <td>1711.57</td>\n",
       "      <td>1711.30</td>\n",
       "      <td>1711.57</td>\n",
       "      <td>78</td>\n",
       "    </tr>\n",
       "    <tr>\n",
       "      <th>2997</th>\n",
       "      <td>2022.09.05 05:00</td>\n",
       "      <td>1711.57</td>\n",
       "      <td>1711.74</td>\n",
       "      <td>1711.37</td>\n",
       "      <td>1711.68</td>\n",
       "      <td>83</td>\n",
       "    </tr>\n",
       "    <tr>\n",
       "      <th>2998</th>\n",
       "      <td>2022.09.05 05:01</td>\n",
       "      <td>1711.71</td>\n",
       "      <td>1711.96</td>\n",
       "      <td>1711.71</td>\n",
       "      <td>1711.83</td>\n",
       "      <td>85</td>\n",
       "    </tr>\n",
       "    <tr>\n",
       "      <th>2999</th>\n",
       "      <td>2022.09.05 05:02</td>\n",
       "      <td>1711.83</td>\n",
       "      <td>1712.01</td>\n",
       "      <td>1711.67</td>\n",
       "      <td>1711.98</td>\n",
       "      <td>62</td>\n",
       "    </tr>\n",
       "  </tbody>\n",
       "</table>\n",
       "<p>2000 rows × 6 columns</p>\n",
       "</div>"
      ],
      "text/plain": [
       "             timestamp     open     high      low    close  volume\n",
       "1000  2022.09.01 17:40  1691.16  1691.87  1690.96  1691.47     345\n",
       "1001  2022.09.01 17:41  1691.47  1692.08  1691.31  1691.63     340\n",
       "1002  2022.09.01 17:42  1691.60  1692.24  1691.52  1692.02     296\n",
       "1003  2022.09.01 17:43  1692.04  1692.28  1690.96  1691.34     349\n",
       "1004  2022.09.01 17:44  1691.35  1691.41  1689.96  1690.12     354\n",
       "...                ...      ...      ...      ...      ...     ...\n",
       "2995  2022.09.05 04:58  1711.75  1711.76  1711.26  1711.44      86\n",
       "2996  2022.09.05 04:59  1711.48  1711.57  1711.30  1711.57      78\n",
       "2997  2022.09.05 05:00  1711.57  1711.74  1711.37  1711.68      83\n",
       "2998  2022.09.05 05:01  1711.71  1711.96  1711.71  1711.83      85\n",
       "2999  2022.09.05 05:02  1711.83  1712.01  1711.67  1711.98      62\n",
       "\n",
       "[2000 rows x 6 columns]"
      ]
     },
     "execution_count": 4,
     "metadata": {},
     "output_type": "execute_result"
    }
   ],
   "source": [
    "df = pd.read_csv(\"./XAUUSD_2022_09.csv\", names=colnames, header=None)\n",
    "df = df.iloc[1000:3000]\n",
    "df"
   ]
  },
  {
   "cell_type": "code",
   "execution_count": 5,
   "metadata": {},
   "outputs": [
    {
     "name": "stderr",
     "output_type": "stream",
     "text": [
      "/home/nkmt/.pyenv/versions/3.10.6/lib/python3.10/site-packages/ta/volatility.py:50: FutureWarning:\n",
      "\n",
      "The behavior of `series[i:j]` with an integer-dtype index is deprecated. In a future version, this will be treated as *label-based* indexing, consistent with e.g. `series[i]` lookups. To retain the old behavior, use `series.iloc[i:j]`. To get the future behavior, use `series.loc[i:j]`.\n",
      "\n"
     ]
    },
    {
     "data": {
      "text/html": [
       "<div>\n",
       "<style scoped>\n",
       "    .dataframe tbody tr th:only-of-type {\n",
       "        vertical-align: middle;\n",
       "    }\n",
       "\n",
       "    .dataframe tbody tr th {\n",
       "        vertical-align: top;\n",
       "    }\n",
       "\n",
       "    .dataframe thead th {\n",
       "        text-align: right;\n",
       "    }\n",
       "</style>\n",
       "<table border=\"1\" class=\"dataframe\">\n",
       "  <thead>\n",
       "    <tr style=\"text-align: right;\">\n",
       "      <th></th>\n",
       "      <th>timestamp</th>\n",
       "      <th>open</th>\n",
       "      <th>high</th>\n",
       "      <th>low</th>\n",
       "      <th>close</th>\n",
       "      <th>volume</th>\n",
       "      <th>atr</th>\n",
       "      <th>high_band_atr</th>\n",
       "      <th>low_band_atr</th>\n",
       "    </tr>\n",
       "  </thead>\n",
       "  <tbody>\n",
       "    <tr>\n",
       "      <th>1000</th>\n",
       "      <td>2022.09.01 17:40</td>\n",
       "      <td>1691.16</td>\n",
       "      <td>1691.87</td>\n",
       "      <td>1690.96</td>\n",
       "      <td>1691.47</td>\n",
       "      <td>345</td>\n",
       "      <td>NaN</td>\n",
       "      <td>NaN</td>\n",
       "      <td>NaN</td>\n",
       "    </tr>\n",
       "    <tr>\n",
       "      <th>1001</th>\n",
       "      <td>2022.09.01 17:41</td>\n",
       "      <td>1691.47</td>\n",
       "      <td>1692.08</td>\n",
       "      <td>1691.31</td>\n",
       "      <td>1691.63</td>\n",
       "      <td>340</td>\n",
       "      <td>0.000000</td>\n",
       "      <td>1691.630000</td>\n",
       "      <td>1691.630000</td>\n",
       "    </tr>\n",
       "    <tr>\n",
       "      <th>1002</th>\n",
       "      <td>2022.09.01 17:42</td>\n",
       "      <td>1691.60</td>\n",
       "      <td>1692.24</td>\n",
       "      <td>1691.52</td>\n",
       "      <td>1692.02</td>\n",
       "      <td>296</td>\n",
       "      <td>0.000000</td>\n",
       "      <td>1692.020000</td>\n",
       "      <td>1692.020000</td>\n",
       "    </tr>\n",
       "    <tr>\n",
       "      <th>1003</th>\n",
       "      <td>2022.09.01 17:43</td>\n",
       "      <td>1692.04</td>\n",
       "      <td>1692.28</td>\n",
       "      <td>1690.96</td>\n",
       "      <td>1691.34</td>\n",
       "      <td>349</td>\n",
       "      <td>0.000000</td>\n",
       "      <td>1691.340000</td>\n",
       "      <td>1691.340000</td>\n",
       "    </tr>\n",
       "    <tr>\n",
       "      <th>1004</th>\n",
       "      <td>2022.09.01 17:44</td>\n",
       "      <td>1691.35</td>\n",
       "      <td>1691.41</td>\n",
       "      <td>1689.96</td>\n",
       "      <td>1690.12</td>\n",
       "      <td>354</td>\n",
       "      <td>0.000000</td>\n",
       "      <td>1690.120000</td>\n",
       "      <td>1690.120000</td>\n",
       "    </tr>\n",
       "    <tr>\n",
       "      <th>...</th>\n",
       "      <td>...</td>\n",
       "      <td>...</td>\n",
       "      <td>...</td>\n",
       "      <td>...</td>\n",
       "      <td>...</td>\n",
       "      <td>...</td>\n",
       "      <td>...</td>\n",
       "      <td>...</td>\n",
       "      <td>...</td>\n",
       "    </tr>\n",
       "    <tr>\n",
       "      <th>2995</th>\n",
       "      <td>2022.09.05 04:58</td>\n",
       "      <td>1711.75</td>\n",
       "      <td>1711.76</td>\n",
       "      <td>1711.26</td>\n",
       "      <td>1711.44</td>\n",
       "      <td>86</td>\n",
       "      <td>0.317247</td>\n",
       "      <td>1711.598624</td>\n",
       "      <td>1711.281376</td>\n",
       "    </tr>\n",
       "    <tr>\n",
       "      <th>2996</th>\n",
       "      <td>2022.09.05 04:59</td>\n",
       "      <td>1711.48</td>\n",
       "      <td>1711.57</td>\n",
       "      <td>1711.30</td>\n",
       "      <td>1711.57</td>\n",
       "      <td>78</td>\n",
       "      <td>0.331015</td>\n",
       "      <td>1711.735508</td>\n",
       "      <td>1711.404492</td>\n",
       "    </tr>\n",
       "    <tr>\n",
       "      <th>2997</th>\n",
       "      <td>2022.09.05 05:00</td>\n",
       "      <td>1711.57</td>\n",
       "      <td>1711.74</td>\n",
       "      <td>1711.37</td>\n",
       "      <td>1711.68</td>\n",
       "      <td>83</td>\n",
       "      <td>0.326657</td>\n",
       "      <td>1711.843328</td>\n",
       "      <td>1711.516672</td>\n",
       "    </tr>\n",
       "    <tr>\n",
       "      <th>2998</th>\n",
       "      <td>2022.09.05 05:01</td>\n",
       "      <td>1711.71</td>\n",
       "      <td>1711.96</td>\n",
       "      <td>1711.71</td>\n",
       "      <td>1711.83</td>\n",
       "      <td>85</td>\n",
       "      <td>0.329753</td>\n",
       "      <td>1711.994876</td>\n",
       "      <td>1711.665124</td>\n",
       "    </tr>\n",
       "    <tr>\n",
       "      <th>2999</th>\n",
       "      <td>2022.09.05 05:02</td>\n",
       "      <td>1711.83</td>\n",
       "      <td>1712.01</td>\n",
       "      <td>1711.67</td>\n",
       "      <td>1711.98</td>\n",
       "      <td>62</td>\n",
       "      <td>0.326199</td>\n",
       "      <td>1712.143100</td>\n",
       "      <td>1711.816900</td>\n",
       "    </tr>\n",
       "  </tbody>\n",
       "</table>\n",
       "<p>2000 rows × 9 columns</p>\n",
       "</div>"
      ],
      "text/plain": [
       "             timestamp     open     high      low    close  volume       atr  \\\n",
       "1000  2022.09.01 17:40  1691.16  1691.87  1690.96  1691.47     345       NaN   \n",
       "1001  2022.09.01 17:41  1691.47  1692.08  1691.31  1691.63     340  0.000000   \n",
       "1002  2022.09.01 17:42  1691.60  1692.24  1691.52  1692.02     296  0.000000   \n",
       "1003  2022.09.01 17:43  1692.04  1692.28  1690.96  1691.34     349  0.000000   \n",
       "1004  2022.09.01 17:44  1691.35  1691.41  1689.96  1690.12     354  0.000000   \n",
       "...                ...      ...      ...      ...      ...     ...       ...   \n",
       "2995  2022.09.05 04:58  1711.75  1711.76  1711.26  1711.44      86  0.317247   \n",
       "2996  2022.09.05 04:59  1711.48  1711.57  1711.30  1711.57      78  0.331015   \n",
       "2997  2022.09.05 05:00  1711.57  1711.74  1711.37  1711.68      83  0.326657   \n",
       "2998  2022.09.05 05:01  1711.71  1711.96  1711.71  1711.83      85  0.329753   \n",
       "2999  2022.09.05 05:02  1711.83  1712.01  1711.67  1711.98      62  0.326199   \n",
       "\n",
       "      high_band_atr  low_band_atr  \n",
       "1000            NaN           NaN  \n",
       "1001    1691.630000   1691.630000  \n",
       "1002    1692.020000   1692.020000  \n",
       "1003    1691.340000   1691.340000  \n",
       "1004    1690.120000   1690.120000  \n",
       "...             ...           ...  \n",
       "2995    1711.598624   1711.281376  \n",
       "2996    1711.735508   1711.404492  \n",
       "2997    1711.843328   1711.516672  \n",
       "2998    1711.994876   1711.665124  \n",
       "2999    1712.143100   1711.816900  \n",
       "\n",
       "[2000 rows x 9 columns]"
      ]
     },
     "execution_count": 5,
     "metadata": {},
     "output_type": "execute_result"
    }
   ],
   "source": [
    "df[\"atr\"] = ta.volatility.AverageTrueRange(df[\"high\"], df[\"low\"], df[\"close\"], 14).average_true_range()\n",
    "df[\"atr\"] = df[\"atr\"].shift(1)\n",
    "df[\"high_band_atr\"] = df[\"close\"] + df[\"atr\"] * 0.5\n",
    "df[\"low_band_atr\"] = df[\"close\"] - df[\"atr\"] * 0.5\n",
    "df\n"
   ]
  },
  {
   "cell_type": "code",
   "execution_count": 6,
   "metadata": {},
   "outputs": [],
   "source": [
    "layout = {\n",
    "    'height':2000,\n",
    "    'title' : {'text':'リッチマンゴールド', 'x':0.5},\n",
    "    'titlefont': {'size':25},\n",
    "    'xaxis': {'title': \"\", 'rangeslider':{'visible':False}},\n",
    "    'yaxis' : {'domain': [.55, 1], 'title': \"価格\" ,'side':\"left\", 'tickformat':',' },\n",
    "}"
   ]
  },
  {
   "cell_type": "code",
   "execution_count": 7,
   "metadata": {},
   "outputs": [],
   "source": [
    "trace =go.Candlestick(\n",
    "    x     = df['timestamp'],\n",
    "    open  = df['open'],\n",
    "    high  = df['high'],\n",
    "    low   = df['low'],\n",
    "    close = df['close'],\n",
    "    yaxis = 'y1',\n",
    "    name  = 'Richman'\n",
    "    )"
   ]
  },
  {
   "cell_type": "code",
   "execution_count": 8,
   "metadata": {},
   "outputs": [],
   "source": [
    "fig = {'data':[trace] ,'layout':layout}"
   ]
  },
  {
   "cell_type": "code",
   "execution_count": 9,
   "metadata": {},
   "outputs": [],
   "source": [
    "fig['data'].extend([\n",
    "    go.Scatter(x=df['timestamp'], y=df['high_band_atr'] , name= 'high_band_atr', line=dict(color='orange', width=1)),\n",
    "    go.Scatter(x=df['timestamp'], y=df['low_band_atr'] , name= 'low_band_atr', line=dict(color='blue', width=1)),\n",
    "])"
   ]
  },
  {
   "cell_type": "code",
   "execution_count": 10,
   "metadata": {},
   "outputs": [
    {
     "data": {
      "text/plain": [
       "'temp-plot.html'"
      ]
     },
     "execution_count": 10,
     "metadata": {},
     "output_type": "execute_result"
    }
   ],
   "source": [
    "offline.plot(fig)"
   ]
  },
  {
   "cell_type": "code",
   "execution_count": 14,
   "metadata": {},
   "outputs": [],
   "source": [
    "# 継承して戦略を利用する\n",
    "# actionを書き換える\n",
    "class Strategy(Backtest):\n",
    "    def action(self):\n",
    "        orders = self._get_orders()\n",
    "        position = self._get_position()[\"qty\"]\n",
    "        \n",
    "        close = self.arrays[self.column_dic[\"close\"]]\n",
    "        high = self.arrays[self.column_dic[\"high\"]]\n",
    "        low = self.arrays[self.column_dic[\"low\"]]\n",
    "        high_band_atr = self.arrays[self.column_dic[\"high_band_atr\"]]\n",
    "        close = self.arrays[self.column_dic[\"close\"]]\n",
    "        low_band_atr = self.arrays[self.column_dic[\"low_band_atr\"]]\n",
    "        if position <= 0:\n",
    "            self._cancel_all_orders()\n",
    "            self._market_order(self.size)\n",
    "        \n",
    "        "
   ]
  },
  {
   "cell_type": "code",
   "execution_count": 15,
   "metadata": {},
   "outputs": [
    {
     "name": "stdout",
     "output_type": "stream",
     "text": [
      "{'timestamp': 0, 'high_band_atr': 1, 'low_band_atr': 2, 'close': 3, 'high': 4, 'low': 5}\n"
     ]
    }
   ],
   "source": [
    "air_exchange = AirExchange()\n",
    "bt = Strategy(\n",
    "    air_exchange=air_exchange, df=df,\n",
    "    columns=[\"high_band_atr\", \"low_band_atr\"]\n",
    ")"
   ]
  },
  {
   "cell_type": "code",
   "execution_count": 17,
   "metadata": {},
   "outputs": [
    {
     "name": "stdout",
     "output_type": "stream",
     "text": [
      "{'id': 0, 'timestamp': '2022.09.01 17:41', 'size': 1, 'side': 'Buy', 'ord_type': 'Market', 'price': 1691.63}\n",
      "0\n",
      "<class 'int'>\n",
      "1\n",
      "<class 'int'>\n",
      "1\n",
      "<class 'int'>\n",
      "0\n",
      "<class 'int'>\n",
      "1691.63\n",
      "1691.63\n",
      "88888888\n",
      "99999999\n",
      "1691.63\n",
      " 経過: 0.005759000778198242  \n"
     ]
    }
   ],
   "source": [
    "bt.run()"
   ]
  },
  {
   "cell_type": "code",
   "execution_count": 18,
   "metadata": {},
   "outputs": [
    {
     "data": {
      "text/plain": [
       "[]"
      ]
     },
     "execution_count": 18,
     "metadata": {},
     "output_type": "execute_result"
    }
   ],
   "source": [
    "bt.air_exchange.orders"
   ]
  },
  {
   "cell_type": "code",
   "execution_count": null,
   "metadata": {},
   "outputs": [],
   "source": []
  }
 ],
 "metadata": {
  "kernelspec": {
   "display_name": "Python 3.10.6 64-bit ('3.10.6')",
   "language": "python",
   "name": "python3"
  },
  "language_info": {
   "codemirror_mode": {
    "name": "ipython",
    "version": 3
   },
   "file_extension": ".py",
   "mimetype": "text/x-python",
   "name": "python",
   "nbconvert_exporter": "python",
   "pygments_lexer": "ipython3",
   "version": "3.10.6"
  },
  "vscode": {
   "interpreter": {
    "hash": "889e620f622344fe72206eee4149d9cf94b896654dbc956cc985300f159686df"
   }
  }
 },
 "nbformat": 4,
 "nbformat_minor": 2
}
