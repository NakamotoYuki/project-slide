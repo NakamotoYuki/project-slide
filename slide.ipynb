{
 "cells": [
  {
   "cell_type": "markdown",
   "id": "42987e1c",
   "metadata": {
    "slideshow": {
     "slide_type": "slide"
    }
   },
   "source": [
    "# My FINAL PROJECT\n",
    "\n",
    "\n",
    "## **ML BOT**\n",
    "\n",
    "<img src=\"./img/top.jpg\" width=\"70%\">\n"
   ]
  },
  {
   "cell_type": "markdown",
   "id": "9d9b6776",
   "metadata": {
    "slideshow": {
     "slide_type": "slide"
    }
   },
   "source": [
    "# Discretionary trading\n",
    "\n",
    "<p><span style=\"font-size: 200%; font-weight: bold;\">😥Pain</span></p>\n",
    "\n",
    "<p><span style=\"font-size: 150%;\">😭 Need a lot of time</span></p>\n",
    "<p><span style=\"font-size: 150%;\">😭 Stressful</span></p>\n",
    "<p><span style=\"font-size: 150%;\">😭 Difficulty</span></p>"
   ]
  },
  {
   "cell_type": "markdown",
   "id": "a43fc477",
   "metadata": {
    "slideshow": {
     "slide_type": "notes"
    }
   },
   "source": [
    "**Need a lot of time**\n",
    "\n",
    "It takes much time for trading.\n",
    "However, at day time we work or study and so on....\n",
    "So, We don't have a time for trading like a professional trader.\n",
    "\n",
    "\n",
    "**Stressful**\n",
    "\n",
    "Trading is very stressful.\n",
    "The price is changing every second,\n",
    "some people feel very nervous.\n",
    "\n",
    "**Difficulty**\n",
    "\n",
    "Professional trader has a special perspectives.\n",
    "But non-professional trader don't have special perspectives."
   ]
  },
  {
   "cell_type": "markdown",
   "id": "3af124ad",
   "metadata": {
    "slideshow": {
     "slide_type": "slide"
    }
   },
   "source": [
    "# Algorithmic Trading 🤖\n",
    "\n",
    "<p><span style=\"font-size: 200%; font-weight: bold;\">😀 Solution</span></p>\n",
    "\n",
    "<p><span style=\"font-size: 150%;\">🏧 Automatic Trade</span></p>\n",
    "\n",
    "<p><span style=\"font-size: 150%;\">🐍　Base on python code</span></p>"
   ]
  },
  {
   "cell_type": "markdown",
   "id": "b5f7180e",
   "metadata": {
    "slideshow": {
     "slide_type": "notes"
    }
   },
   "source": [
    "So, my solution is Algorithmic Trading\n",
    "\n",
    "If the trading is automatically, we don't need a time for trading.\n",
    "\n",
    "Plus that, There many trading library in Python."
   ]
  },
  {
   "cell_type": "markdown",
   "id": "41344828",
   "metadata": {
    "slideshow": {
     "slide_type": "slide"
    }
   },
   "source": [
    "# Preparing\n",
    "<p><span style=\"font-size: 200%; font-weight: bold;\">Stack</span></p>\n",
    "<br>\n",
    "<details>\n",
    "  <summary  style = \"font-size: 150%; font-weight: bold;\">🔢 Data</summary>\n",
    "    <p><span style  = \"font-weight: bold;\">Price Data :</span> Crypto Currency Stock Price and so on...</p>\n",
    "</details>\n",
    "\n",
    "<br>\n",
    "<details>\n",
    "  <summary  style = \"font-size: 150%; font-weight: bold;\">Tech</summary>\n",
    "    <p><span style  = \"font-weight: bold;\">Time Series : </span>ARIMA LSTM LSTM and so on...</p>\n",
    "</details>\n",
    "\n",
    "<br>\n",
    "<details>\n",
    "  <summary  style = \"font-size: 150%; font-weight: bold;\">Deployment</summary>\n",
    "    <p><span style  = \"font-weight: bold;\">Cloud Service : </span>GCP</p>\n",
    "</details>\n",
    "\n",
    "<br>\n",
    "<details>\n",
    "  <summary  style = \"font-size: 150%; font-weight: bold;\">Frontend</summary>\n",
    "    <p><span style  = \"font-weight: bold;\">Streamlit</span></p>\n",
    "</details>"
   ]
  },
  {
   "cell_type": "markdown",
   "id": "5c6a6828",
   "metadata": {
    "slideshow": {
     "slide_type": "notes"
    }
   },
   "source": [
    "For this project I'm going to use Crypto Currency Stock Price.\n",
    "\n",
    "Price data is a time series data, I'm going to use ARIMA LSTM LSTM and so on...\n",
    "\n",
    "However, Algorithmic Trading is very difficult.\n",
    "\n",
    "In addition, Trading is high risk.\n",
    "\n",
    "As you know, FTX incident imply trading is very risky.\n",
    "\n",
    "So, Personally I like to develop any kind of time series project."
   ]
  },
  {
   "cell_type": "code",
   "execution_count": null,
   "id": "4a451ba7",
   "metadata": {},
   "outputs": [],
   "source": []
  }
 ],
 "metadata": {
  "celltoolbar": "Slideshow",
  "kernelspec": {
   "display_name": "Python 3 (ipykernel)",
   "language": "python",
   "name": "python3"
  },
  "language_info": {
   "codemirror_mode": {
    "name": "ipython",
    "version": 3
   },
   "file_extension": ".py",
   "mimetype": "text/x-python",
   "name": "python",
   "nbconvert_exporter": "python",
   "pygments_lexer": "ipython3",
   "version": "3.8.12"
  },
  "toc": {
   "base_numbering": 1,
   "nav_menu": {},
   "number_sections": true,
   "sideBar": true,
   "skip_h1_title": false,
   "title_cell": "Table of Contents",
   "title_sidebar": "Contents",
   "toc_cell": false,
   "toc_position": {},
   "toc_section_display": true,
   "toc_window_display": false
  }
 },
 "nbformat": 4,
 "nbformat_minor": 5
}
