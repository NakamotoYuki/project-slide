{
 "cells": [
  {
   "cell_type": "markdown",
   "id": "42987e1c",
   "metadata": {
    "slideshow": {
     "slide_type": "slide"
    }
   },
   "source": [
    "<link rel=\"stylesheet\" href=\"https://cdn.jsdelivr.net/npm/bootstrap@4.4.1/dist/css/bootstrap.min.css\" integrity=\"sha384-Vkoo8x4CGsO3+Hhxv8T/Q5PaXtkKtu6ug5TOeNV6gBiFeWPGFN9MuhOf23Q9Ifjh\" crossorigin=\"anonymous\">\n",
    "\n",
    "# Algorithmic Trading 🤖\n",
    "\n",
    "<img src=\"./img/top.jpg\" width=\"70%\">\n"
   ]
  },
  {
   "cell_type": "markdown",
   "id": "8c331ffe",
   "metadata": {
    "slideshow": {
     "slide_type": "notes"
    }
   },
   "source": [
    "Fistst of all, Please go easy on me."
   ]
  },
  {
   "cell_type": "markdown",
   "id": "9d9b6776",
   "metadata": {
    "slideshow": {
     "slide_type": "slide"
    }
   },
   "source": [
    "# Discretionary trading\n",
    "\n",
    "<p><span style=\"font-size: 200%; font-weight: bold;\">😥Painful</span></p>\n",
    "\n",
    "<p><span style=\"font-size: 150%;\">😭 Need a lot of time</span></p>\n",
    "<p><span style=\"font-size: 150%;\">😭 Stressful</span></p>\n",
    "<p><span style=\"font-size: 150%;\">😭 Difficulty</span></p>"
   ]
  },
  {
   "cell_type": "markdown",
   "id": "a43fc477",
   "metadata": {
    "slideshow": {
     "slide_type": "notes"
    }
   },
   "source": [
    "**Need a lot of time**\n",
    "\n",
    "It takes much time for trading.\n",
    "However, at day time we work or study and so on....\n",
    "So, We don't have a time for trading like a professional trader.\n",
    "\n",
    "\n",
    "**Stressful**\n",
    "\n",
    "Trading is very stressful.\n",
    "The price is changing every second,\n",
    "some people feel very nervous.\n",
    "\n",
    "**Difficulty**\n",
    "\n",
    "Professional trader has a special perspectives.\n",
    "But non-professional trader don't have special perspectives."
   ]
  },
  {
   "cell_type": "markdown",
   "id": "3af124ad",
   "metadata": {
    "slideshow": {
     "slide_type": "slide"
    }
   },
   "source": [
    "# Algorithmic Trading 🤖\n",
    "\n",
    "<p><span style=\"font-size: 200%; font-weight: bold;\">😀 Solution</span></p>\n",
    "\n",
    "<p><span style=\"font-size: 150%;\">🏧 Automatic Trade</span></p>\n",
    "\n",
    "<p><span style=\"font-size: 150%;\">🐍　Base on python code</span></p>"
   ]
  },
  {
   "cell_type": "markdown",
   "id": "b5f7180e",
   "metadata": {
    "slideshow": {
     "slide_type": "notes"
    }
   },
   "source": [
    "So, my solution is Algorithmic Trading\n",
    "\n",
    "If the trading is automatically, we don't need a time for trading.\n",
    "\n",
    "In addition, There many trading library in Python."
   ]
  },
  {
   "cell_type": "markdown",
   "id": "41344828",
   "metadata": {
    "slideshow": {
     "slide_type": "slide"
    }
   },
   "source": [
    "# Preparing\n",
    "<p style = \"font-size: 150%;\"><span style = \"font-size: 150%; font-weight: bold;\">Price Data :</span> OHLC(Open High Low Close)</p>\n",
    "<br>\n",
    "Example:\n",
    "<p><a href=\"https://www.dukascopy.jp/marketwatch/historical/\">Dukascopy Japan</a></p>\n",
    "<p><a href=\"https://docs.cryptowat.ch/rest-api\">cryptowat</a></p>"
   ]
  },
  {
   "cell_type": "code",
   "execution_count": 43,
   "id": "8a5e6335",
   "metadata": {
    "slideshow": {
     "slide_type": "subslide"
    }
   },
   "outputs": [
    {
     "data": {
      "text/html": [
       "<div>\n",
       "<style scoped>\n",
       "    .dataframe tbody tr th:only-of-type {\n",
       "        vertical-align: middle;\n",
       "    }\n",
       "\n",
       "    .dataframe tbody tr th {\n",
       "        vertical-align: top;\n",
       "    }\n",
       "\n",
       "    .dataframe thead th {\n",
       "        text-align: right;\n",
       "    }\n",
       "</style>\n",
       "<table border=\"1\" class=\"dataframe\">\n",
       "  <thead>\n",
       "    <tr style=\"text-align: right;\">\n",
       "      <th></th>\n",
       "      <th>time</th>\n",
       "      <th>open</th>\n",
       "      <th>high</th>\n",
       "      <th>low</th>\n",
       "      <th>close</th>\n",
       "      <th>volume</th>\n",
       "    </tr>\n",
       "  </thead>\n",
       "  <tbody>\n",
       "    <tr>\n",
       "      <th>0</th>\n",
       "      <td>2022.09.01 01:00</td>\n",
       "      <td>1710.70</td>\n",
       "      <td>1711.07</td>\n",
       "      <td>1710.44</td>\n",
       "      <td>1710.60</td>\n",
       "      <td>138</td>\n",
       "    </tr>\n",
       "    <tr>\n",
       "      <th>1</th>\n",
       "      <td>2022.09.01 01:01</td>\n",
       "      <td>1710.58</td>\n",
       "      <td>1710.91</td>\n",
       "      <td>1710.58</td>\n",
       "      <td>1710.83</td>\n",
       "      <td>64</td>\n",
       "    </tr>\n",
       "    <tr>\n",
       "      <th>2</th>\n",
       "      <td>2022.09.01 01:02</td>\n",
       "      <td>1710.83</td>\n",
       "      <td>1710.89</td>\n",
       "      <td>1710.64</td>\n",
       "      <td>1710.85</td>\n",
       "      <td>41</td>\n",
       "    </tr>\n",
       "    <tr>\n",
       "      <th>3</th>\n",
       "      <td>2022.09.01 01:03</td>\n",
       "      <td>1710.83</td>\n",
       "      <td>1710.83</td>\n",
       "      <td>1710.66</td>\n",
       "      <td>1710.75</td>\n",
       "      <td>54</td>\n",
       "    </tr>\n",
       "    <tr>\n",
       "      <th>4</th>\n",
       "      <td>2022.09.01 01:04</td>\n",
       "      <td>1710.74</td>\n",
       "      <td>1710.91</td>\n",
       "      <td>1710.71</td>\n",
       "      <td>1710.91</td>\n",
       "      <td>28</td>\n",
       "    </tr>\n",
       "  </tbody>\n",
       "</table>\n",
       "</div>"
      ],
      "text/plain": [
       "               time     open     high      low    close  volume\n",
       "0  2022.09.01 01:00  1710.70  1711.07  1710.44  1710.60     138\n",
       "1  2022.09.01 01:01  1710.58  1710.91  1710.58  1710.83      64\n",
       "2  2022.09.01 01:02  1710.83  1710.89  1710.64  1710.85      41\n",
       "3  2022.09.01 01:03  1710.83  1710.83  1710.66  1710.75      54\n",
       "4  2022.09.01 01:04  1710.74  1710.91  1710.71  1710.91      28"
      ]
     },
     "execution_count": 43,
     "metadata": {},
     "output_type": "execute_result"
    }
   ],
   "source": [
    "import pandas as pd\n",
    "df = pd.read_csv(\"./XAUUSD_2022_09.csv\")\n",
    "df.head()"
   ]
  },
  {
   "cell_type": "markdown",
   "id": "f9d41b1c",
   "metadata": {
    "slideshow": {
     "slide_type": "slide"
    }
   },
   "source": [
    "<p style = \"font-size: 150%;\"><span style = \"font-size: 150%; font-weight: bold;\">Technical indicator Data :</span> MACD RSI ICHIMOKU....</p>\n",
    "\n",
    "Libraries:\n",
    "<p><a href=\"https://technical-analysis-library-in-python.readthedocs.io/en/latest/\">Technical Analysis Library in Python</a></p>\n",
    "<p><a href=\"https://nakamotoyuki.github.io/project-slide/plot.html\">sample graph</a></p>"
   ]
  },
  {
   "cell_type": "code",
   "execution_count": 44,
   "id": "4f2b9d32",
   "metadata": {
    "slideshow": {
     "slide_type": "skip"
    }
   },
   "outputs": [
    {
     "data": {
      "text/plain": [
       "'temp-plot.html'"
      ]
     },
     "execution_count": 44,
     "metadata": {},
     "output_type": "execute_result"
    }
   ],
   "source": [
    "import plotly.graph_objs as go\n",
    "import plotly.offline\n",
    "from plotly import offline\n",
    "import ta\n",
    "from plotly.offline import iplot\n",
    "\n",
    "df = df[1000:1100]\n",
    "df[\"atr\"] = ta.volatility.AverageTrueRange(df[\"high\"], df[\"low\"], df[\"close\"], 14).average_true_range()\n",
    "df[\"atr\"] = df[\"atr\"].shift(1)\n",
    "df[\"high_band_atr\"] = df[\"close\"] + df[\"atr\"] * 0.5\n",
    "df[\"low_band_atr\"] = df[\"close\"] - df[\"atr\"] * 0.5\n",
    "\n",
    "layout = {\n",
    "    'height':2000,\n",
    "    'title' : {'text':'リッチマンゴールド', 'x':0.5},\n",
    "    'titlefont': {'size':25},\n",
    "    'xaxis': {'title': \"\", 'rangeslider':{'visible':False}},\n",
    "    'yaxis' : {'domain': [.55, 1], 'title': \"価格\" ,'side':\"left\", 'tickformat':',' },\n",
    "}\n",
    "\n",
    "trace =go.Candlestick(\n",
    "    x     = df['time'],\n",
    "    open  = df['open'],\n",
    "    high  = df['high'],\n",
    "    low   = df['low'],\n",
    "    close = df['close'],\n",
    "    yaxis = 'y1',\n",
    "    name  = 'Richman'\n",
    "    )\n",
    "\n",
    "fig = {'data':[trace] ,'layout':layout}\n",
    "\n",
    "fig['data'].extend([\n",
    "    go.Scatter(x=df['time'], y=df['high_band_atr'] , name= 'high_band_atr', line=dict(color='orange', width=1)),\n",
    "    go.Scatter(x=df['time'], y=df['low_band_atr'] , name= 'low_band_atr', line=dict(color='blue', width=1)),\n",
    "])\n",
    "\n",
    "offline.plot(fig)"
   ]
  },
  {
   "cell_type": "markdown",
   "id": "10b8c14f",
   "metadata": {
    "slideshow": {
     "slide_type": "skip"
    }
   },
   "source": [
    "<br>\n",
    "<details>\n",
    "  <summary  style = \"font-size: 150%; font-weight: bold;\">Tech</summary>\n",
    "    <p><span style  = \"font-weight: bold;\">Time Series : </span>ARIMA LSTM LSTM and so on...</p>\n",
    "</details>\n",
    "\n",
    "<br>\n",
    "<details>\n",
    "  <summary  style = \"font-size: 150%; font-weight: bold;\">Deployment</summary>\n",
    "    <p><span style  = \"font-weight: bold;\">Cloud Service : </span>GCP</p>\n",
    "</details>\n",
    "\n",
    "<br>\n",
    "<details>\n",
    "  <summary  style = \"font-size: 150%; font-weight: bold;\">Frontend</summary>\n",
    "    <p><span style  = \"font-weight: bold;\">Streamlit</span></p>\n",
    "</details>"
   ]
  },
  {
   "cell_type": "markdown",
   "id": "5c6a6828",
   "metadata": {
    "slideshow": {
     "slide_type": "notes"
    }
   },
   "source": [
    "For this project I'm going to use Crypto Currency Stock Price.\n",
    "\n",
    "Price data is a time series data, I'm going to use ARIMA LSTM LSTM and so on...\n",
    "\n",
    "However, Algorithmic Trading is very difficult.\n",
    "\n",
    "In addition, Trading is high risk.\n",
    "\n",
    "As you know, FTX incident imply trading is very risky.\n",
    "\n",
    "So, Personally I like to develop any kind of time series project."
   ]
  }
 ],
 "metadata": {
  "celltoolbar": "Slideshow",
  "kernelspec": {
   "display_name": "Python 3 (ipykernel)",
   "language": "python",
   "name": "python3"
  },
  "language_info": {
   "codemirror_mode": {
    "name": "ipython",
    "version": 3
   },
   "file_extension": ".py",
   "mimetype": "text/x-python",
   "name": "python",
   "nbconvert_exporter": "python",
   "pygments_lexer": "ipython3",
   "version": "3.8.12"
  },
  "toc": {
   "base_numbering": 1,
   "nav_menu": {},
   "number_sections": true,
   "sideBar": true,
   "skip_h1_title": false,
   "title_cell": "Table of Contents",
   "title_sidebar": "Contents",
   "toc_cell": false,
   "toc_position": {},
   "toc_section_display": true,
   "toc_window_display": false
  },
  "vscode": {
   "interpreter": {
    "hash": "57351f257ac01e983dcedb7c2335315096b8fbf21e13757493a7dea35eb50564"
   }
  }
 },
 "nbformat": 4,
 "nbformat_minor": 5
}
